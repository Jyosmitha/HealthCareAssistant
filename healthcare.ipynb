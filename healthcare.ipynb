{
 "cells": [
  {
   "cell_type": "code",
   "execution_count": null,
   "metadata": {},
   "outputs": [],
   "source": [
    "import os\n",
    "import openai\n",
    "import requests\n",
    "import langgraph\n",
    "import langsmith\n",
    "import faiss\n",
    "import streamlit as st\n",
    "#from langchain_openai import ChatOpenAI\n",
    "from langchain_groq import ChatGroq\n",
    "from langgraph.graph import StateGraph\n",
    "from pydantic import BaseModel\n",
    "from langchain.schema import AIMessage\n",
    "from bs4 import BeautifulSoup\n",
    "from dotenv import load_dotenv\n"
   ]
  },
  {
   "cell_type": "code",
   "execution_count": null,
   "metadata": {},
   "outputs": [],
   "source": [
    "\n",
    "# Load environment variables from .env file\n",
    "load_dotenv()\n",
    "\n",
    "# Fetch API Key\n",
    "#openai_api_key = os.getenv(\"OPENAI_API_KEY\")\n",
    "os.environ[\"GROQ_API_KEY\"] = os.getenv(\"GROQ_API_KEY\")\n",
    "\n",
    "# Initialize LLM\n",
    "#llm = ChatOpenAI(model=\"gpt-4\", temperature=0.7)\n",
    "llm = ChatGroq(model=\"qwen-2.5-32b\", temperature=0.7)\n"
   ]
  },
  {
   "cell_type": "code",
   "execution_count": null,
   "metadata": {},
   "outputs": [],
   "source": [
    "\n",
    "# WHO URLs for Health & Nutrition\n",
    "who_urls = {\n",
    "    \"Healthy Diet\": \"https://www.who.int/news-room/fact-sheets/detail/healthy-diet\",\n",
    "    \"Physical Activity\": \"https://www.who.int/news-room/fact-sheets/detail/physical-activity\",\n",
    "    \"Obesity & Overweight\": \"https://www.who.int/news-room/fact-sheets/detail/obesity-and-overweight\",\n",
    "    \"General Health\": \"https://www.who.int/health-topics/healthy-diet\"\n",
    "}\n"
   ]
  },
  {
   "cell_type": "code",
   "execution_count": null,
   "metadata": {},
   "outputs": [],
   "source": [
    "\n",
    "# Define State Schema\n",
    "class HealthQueryState(BaseModel):\n",
    "    gender: str\n",
    "    weight: float\n",
    "    target_weight: float\n",
    "    height: float\n",
    "    lifestyle: str\n",
    "    meal_preferences: str\n",
    "    fitness_goals: str\n",
    "    personalized_plan: str = \"\"\n",
    "    external_retrieval: str = \"\"\n",
    "    user_feedback: str = \"\"\n"
   ]
  },
  {
   "cell_type": "code",
   "execution_count": null,
   "metadata": {},
   "outputs": [],
   "source": [
    "\n",
    "# Fetch WHO recommendations\n",
    "def fetch_who_recommendations():\n",
    "    recommendations = []\n",
    "    for topic, url in who_urls.items():\n",
    "        try:\n",
    "            response = requests.get(url)\n",
    "            if response.ok:\n",
    "                soup = BeautifulSoup(response.text, \"html.parser\")\n",
    "                summary = \"\\n\".join(p.get_text() for p in soup.find_all(\"p\")[:3])\n",
    "                recommendations.append(f\" {topic} Recommendations:\\n{summary}\\nMore details: {url}\\n\")\n",
    "            else:\n",
    "                recommendations.append(f\" {topic} Recommendations: Unable to retrieve. Visit: {url}\\n\")\n",
    "        except:\n",
    "            recommendations.append(f\" {topic} Recommendations: Error fetching data. Visit: {url}\\n\")\n",
    "    return \"\\n\".join(recommendations)\n"
   ]
  },
  {
   "cell_type": "code",
   "execution_count": null,
   "metadata": {},
   "outputs": [],
   "source": [
    "\n",
    "# Define Workflow Functions\n",
    "def analyze_query(state: HealthQueryState):\n",
    "    return state\n",
    "\n",
    "def retrieve_information(state: HealthQueryState):\n",
    "    prompt = f\"\"\"\n",
    "    Generate a personalized health plan for a {state.gender} weighing {state.weight}kg, {state.height}cm tall,\n",
    "    following a {state.lifestyle} lifestyle. The user prefers {state.meal_preferences} meals and aims for {state.fitness_goals}.\n",
    "    \n",
    "    The target weight is {state.target_weight}kg. Adjust the diet and workout plan accordingly.\n",
    "    Provide a detailed schedule with estimated timeframes for achieving the target weight.\n",
    "    \"\"\"\n",
    "    llm_response = llm.invoke(prompt)\n",
    "    state.personalized_plan = llm_response.content if isinstance(llm_response, AIMessage) else str(llm_response)\n",
    "    return state\n",
    "\n",
    "def external_knowledge(state: HealthQueryState):\n",
    "    state.external_retrieval = fetch_who_recommendations()\n",
    "    return state\n",
    "\n",
    "def human_feedback(state: HealthQueryState):\n",
    "    if state.user_feedback:\n",
    "        prompt = f\"Modify the following health plan based on user feedback:\\n\\nUser Feedback: {state.user_feedback}\\n\\nOriginal Plan:\\n{state.personalized_plan}\"\n",
    "        llm_response = llm.invoke(prompt)\n",
    "        state.personalized_plan = llm_response.content if isinstance(llm_response, AIMessage) else str(llm_response)\n",
    "    return state\n",
    "\n",
    "def create_healthcare_rag_workflow():\n",
    "    graph = StateGraph(HealthQueryState)\n",
    "    graph.add_node(\"analyze_query\", analyze_query)\n",
    "    graph.add_node(\"retrieve_information\", retrieve_information)\n",
    "    graph.add_node(\"external_knowledge\", external_knowledge)\n",
    "    graph.add_node(\"human_feedback\", human_feedback)\n",
    "    graph.set_entry_point(\"analyze_query\")\n",
    "    graph.add_edge(\"analyze_query\", \"retrieve_information\")\n",
    "    graph.add_edge(\"retrieve_information\", \"external_knowledge\")\n",
    "    graph.add_edge(\"external_knowledge\", \"human_feedback\")\n",
    "    return graph.compile()\n"
   ]
  },
  {
   "cell_type": "code",
   "execution_count": null,
   "metadata": {},
   "outputs": [],
   "source": [
    "\n",
    "# Create Workflow\n",
    "app = create_healthcare_rag_workflow()\n",
    "\n",
    "# Streamlit UI\n",
    "st.title(\"🏋️ Personal Healthcare Assistant with RAG & WHO Recommendations\")\n",
    "st.subheader(\"Generate a Personalized Diet & Activity Plan\")\n",
    "\n",
    "# Session state\n",
    "st.session_state.setdefault(\"response_state\", None)\n",
    "st.session_state.setdefault(\"user_feedback\", \"\")\n",
    "\n",
    "# User Inputs\n",
    "gender = st.selectbox(\"Select Gender\", [\"Male\", \"Female\", \"Other\"])\n",
    "weight = st.number_input(\"Enter your weight (kg)\", 30.0, 200.0, step=0.1)\n",
    "target_weight = st.number_input(\"Enter your target weight (kg)\", 30.0, 200.0, step=0.1)\n",
    "height = st.number_input(\"Enter your height (cm)\", 100.0, 250.0, step=0.1)\n",
    "lifestyle = st.selectbox(\"Select Your Lifestyle\", [\"Sedentary\", \"Lightly Active\", \"Moderately Active\", \"Very Active\"])\n",
    "meal_preferences = st.selectbox(\"Select Your Meal Preference\", [\"Vegetarian\", \"Non-Vegetarian\", \"Vegan\", \"Keto\", \"Mediterranean\"])\n",
    "fitness_goals = st.selectbox(\"Select Your Fitness Goal\", [\"Weight Loss\", \"Muscle Gain\", \"General Fitness\", \"Endurance Training\"])\n"
   ]
  },
  {
   "cell_type": "code",
   "execution_count": null,
   "metadata": {},
   "outputs": [],
   "source": [
    "\n",
    "if st.button(\"Generate Plan\"):\n",
    "    user_state = HealthQueryState(\n",
    "        gender=gender, weight=weight, target_weight=target_weight, height=height,\n",
    "        lifestyle=lifestyle, meal_preferences=meal_preferences, fitness_goals=fitness_goals\n",
    "    )\n",
    "    st.session_state.response_state = HealthQueryState(**dict(app.invoke(user_state)))\n"
   ]
  },
  {
   "cell_type": "code",
   "execution_count": null,
   "metadata": {},
   "outputs": [],
   "source": [
    "\n",
    "if st.session_state.response_state:\n",
    "    st.subheader(\"📋 Your Personalized Health Plan\")\n",
    "    st.write(st.session_state.response_state.personalized_plan)\n",
    "    \n",
    "    st.subheader(\"🌍 WHO Dietary & Health Recommendations\")\n",
    "    st.write(st.session_state.response_state.external_retrieval)\n",
    "    \n",
    "    # User Feedback\n",
    "    st.session_state.user_feedback = st.text_area(\"Provide feedback to modify the plan:\", st.session_state.user_feedback, key=\"feedback_input\")\n",
    "    if st.button(\"Modify Plan\"):\n",
    "        st.session_state.response_state.user_feedback = st.session_state.user_feedback\n",
    "        st.session_state.response_state = HealthQueryState(**dict(app.invoke(st.session_state.response_state)))\n",
    "        st.rerun()\n"
   ]
  }
 ],
 "metadata": {
  "kernelspec": {
   "display_name": "AgenticAI_Env",
   "language": "python",
   "name": "python3"
  },
  "language_info": {
   "name": "python",
   "version": "3.12.0"
  }
 },
 "nbformat": 4,
 "nbformat_minor": 2
}
